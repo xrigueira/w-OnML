{
 "cells": [
  {
   "attachments": {},
   "cell_type": "markdown",
   "metadata": {},
   "source": [
    "# Data exploration\n",
    "This file contains several methods for data exploration. These will be baby steps but they can be quite important in getting a sense of what out data looks like.\n",
    "## What kind of data?\n",
    "Initialy, we will be using water quality time-series data record every 15 mins at a particular station (Gallego en Villanueva) in the Ebro river, Spain. The variables available are:\n",
    "\n",
    "1. Absorbance.\n",
    "2. Ammonium.\n",
    "3. Conductivity.\n",
    "4. Dissolved oxygen.\n",
    "5. pH.\n",
    "6. Turbidity.\n",
    "7. Water level.\n",
    "8. Water temperature.\n",
    "\n",
    "All data is available in the [data repo](https://github.com/xrigueira/data)."
   ]
  },
  {
   "cell_type": "code",
   "execution_count": null,
   "metadata": {},
   "outputs": [],
   "source": [
    "# Load the preprocessed data\n",
    "import numpy as np\n",
    "import pandas as pd\n",
    "\n",
    "import matplotlib.pyplot as plt\n",
    "\n",
    "# Plot a normalized variable (e.g. absorbance_903)\n",
    "stationNumber = 903\n",
    "varName = 'absorbance_903'\n",
    "df = pd.read_csv(f'data/merged_{str(stationNumber)}.csv', sep=',', encoding='utf-8')\n",
    "df.plot(kind='line', x='date', y=varName)\n",
    "plt.show()"
   ]
  },
  {
   "cell_type": "code",
   "execution_count": null,
   "metadata": {},
   "outputs": [],
   "source": [
    "import pandas as pd\n",
    "\n",
    "df = pd.read_csv(f'data/results.csv', sep=',', encoding='utf-8')\n",
    "\n",
    "df.sort_values('Perc_Gaps')[['Variable', 'Perc_Gaps']] \\\n",
    ".reset_index(drop=True) \\\n",
    ".style \\\n",
    ".background_gradient(cmap='Reds')"
   ]
  }
 ],
 "metadata": {
  "kernelspec": {
   "display_name": "Python 3",
   "language": "python",
   "name": "python3"
  },
  "language_info": {
   "codemirror_mode": {
    "name": "ipython",
    "version": 3
   },
   "file_extension": ".py",
   "mimetype": "text/x-python",
   "name": "python",
   "nbconvert_exporter": "python",
   "pygments_lexer": "ipython3",
   "version": "3.7.8"
  },
  "orig_nbformat": 4
 },
 "nbformat": 4,
 "nbformat_minor": 2
}
